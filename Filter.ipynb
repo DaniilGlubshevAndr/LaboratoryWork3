{
  "nbformat": 4,
  "nbformat_minor": 0,
  "metadata": {
    "colab": {
      "name": "Untitled0.ipynb",
      "provenance": [],
      "collapsed_sections": [],
      "authorship_tag": "ABX9TyNpBCuZqf5qKkzuS0TVboTe",
      "include_colab_link": true
    },
    "kernelspec": {
      "name": "python3",
      "display_name": "Python 3"
    },
    "accelerator": "GPU"
  },
  "cells": [
    {
      "cell_type": "markdown",
      "metadata": {
        "id": "view-in-github",
        "colab_type": "text"
      },
      "source": [
        "<a href=\"https://colab.research.google.com/github/DaniilGlubshevAndr/LaboratoryWork3/blob/main/Filter.ipynb\" target=\"_parent\"><img src=\"https://colab.research.google.com/assets/colab-badge.svg\" alt=\"Open In Colab\"/></a>"
      ]
    },
    {
      "cell_type": "code",
      "metadata": {
        "colab": {
          "base_uri": "https://localhost:8080/"
        },
        "id": "QEia1gA75Hre",
        "outputId": "ce77f99e-ebe2-4569-acc4-e16a597caf6b"
      },
      "source": [
        "import numpy as np\r\n",
        "from timeit import default_timer as timer\r\n",
        "import pycuda.autoinit\r\n",
        "from pycuda.driver import In, Out, Context\r\n",
        "from pycuda.compiler import SourceModule\r\n",
        "from PIL import Image\r\n",
        "\r\n",
        "BLOCK_SIZE = 32\r\n",
        "BLOCK = (BLOCK_SIZE, BLOCK_SIZE, 1)\r\n",
        "FILTER_SIZE = 5\r\n",
        "ARRAY_SIZE = FILTER_SIZE ** 2\r\n",
        "DISPLACEMENT = FILTER_SIZE // 2\r\n",
        "FILE_NAMES = [\"512.bmp\", \"1024.bmp\"]\r\n",
        "\r\n",
        "#ядро\r\n",
        "kernel = SourceModule(\r\n",
        "    \"\"\"\r\n",
        "    __global__ void median_filter(unsigned char* pixels, unsigned char* filtered, int* size){\r\n",
        "        const int blockSize = %(BLOCK_SIZE)s;\r\n",
        "        const int arraySize = %(ARRAY_SIZE)s;\r\n",
        "        const int filterSize = %(FILTER_SIZE)s;\r\n",
        "        const int offset = %(DISPLACEMENT)s;\r\n",
        "        int width = size[0];\r\n",
        "        int j = blockIdx.x * blockDim.x + threadIdx.x;\r\n",
        "\t      int i = blockIdx.y * blockDim.y + threadIdx.y; \r\n",
        "\t      int x, y, index;\r\n",
        "        __shared__ int local[blockSize][blockSize];\r\n",
        "        int arr[arraySize];\r\n",
        "        local[threadIdx.y][threadIdx.x] = pixels[i * width + j];\r\n",
        "        __syncthreads ();\r\n",
        "        for (int k = 0; k < filterSize; k++){\r\n",
        "            x = max(0, min(threadIdx.y + k - offset, blockSize - 1));\r\n",
        "            for (int l = 0; l < filterSize; l++){\r\n",
        "                index = k * filterSize + l;\r\n",
        "                y = max(0, min(threadIdx.x + l - offset, blockSize - 1));\r\n",
        "                arr[index] = local[x][y];\r\n",
        "            }\r\n",
        "        }\r\n",
        "        __syncthreads ();\r\n",
        "        for (int k = 0; k < arraySize; k++){\r\n",
        "            for (int l = k + 1; l < arraySize; l++){\r\n",
        "                if (arr[k] > arr[l]){\r\n",
        "                    unsigned char temp = arr[k];\r\n",
        "                    arr[k] = arr[l];\r\n",
        "                    arr[l] = temp;\r\n",
        "                }\r\n",
        "            }\r\n",
        "        }\r\n",
        "        filtered[i * width + j] = arr[int(arraySize / 2)];\r\n",
        "    }\r\n",
        "    \"\"\" % {\r\n",
        "        'BLOCK_SIZE': BLOCK_SIZE,\r\n",
        "        'ARRAY_SIZE': ARRAY_SIZE,\r\n",
        "        'DISPLACEMENT': DISPLACEMENT,\r\n",
        "        'FILTER_SIZE': FILTER_SIZE\r\n",
        "    }\r\n",
        ")\r\n",
        "\r\n",
        "median_filter = kernel.get_function(\"median_filter\")\r\n",
        "\r\n",
        "#функция для загрузки изображения\r\n",
        "def open_image(filename: str):\r\n",
        "    image = Image.open(filename)\r\n",
        "    pix = image.load()\r\n",
        "    width = image.size[0]\r\n",
        "    height = image.size[1]\r\n",
        "    pixels = np.zeros((width, height), dtype=np.uint8)\r\n",
        "    for i in range(height):\r\n",
        "        for j in range(width):\r\n",
        "            pixels[i, j] = pix[j, i]\r\n",
        "    return pixels, width, height\r\n",
        "\r\n",
        "#применение медианного фильтра на CPU\r\n",
        "def cpu_filter(pixels, width, height):\r\n",
        "    filtered = np.zeros_like(pixels)\r\n",
        "    mediana = ARRAY_SIZE // 2\r\n",
        "    for i in range(height):\r\n",
        "        for j in range(width):\r\n",
        "            arr = np.zeros(ARRAY_SIZE)\r\n",
        "            for k in range(FILTER_SIZE):\r\n",
        "                x = max(0, min(i + k - DISPLACEMENT, height - 1))\r\n",
        "                index = k * FILTER_SIZE\r\n",
        "                for l in range(FILTER_SIZE):\r\n",
        "                    y = max(0, min(j + l - DISPLACEMENT, width - 1))\r\n",
        "                    arr[index + l] = pixels[x, y]\r\n",
        "            arr.sort()\r\n",
        "            filtered[i, j] = arr[mediana]\r\n",
        "    return filtered\r\n",
        "\r\n",
        "#применение медианного фильтра на GPU\r\n",
        "def gpu_filter(pixels, width, height):\r\n",
        "    size = np.array([width, height])\r\n",
        "    filtered = np.zeros_like(pixels)\r\n",
        "    #размер сетки\r\n",
        "    grid_dim = (width // BLOCK_SIZE, height // BLOCK_SIZE) \r\n",
        "    #запуск ядра\r\n",
        "    median_filter(In(pixels), Out(filtered), In(size), block=BLOCK, grid=grid_dim)\r\n",
        "    Context.synchronize()\r\n",
        "    return filtered\r\n",
        "\r\n",
        "#сохраняем изображение в формате bmp\r\n",
        "def save_image(filtered, filename):\r\n",
        "    new_image = Image.fromarray(filtered.astype('uint8'), mode='L')\r\n",
        "    new_image.save(filename, format=\"BMP\")\r\n",
        "\r\n",
        "#измеряем время на CPU\r\n",
        "def time_cpu(pixels, width, height, save):\r\n",
        "    start = timer()\r\n",
        "    #запускаем функцию\r\n",
        "    filtered = cpu_filter(pixels, width, height)\r\n",
        "    cpu_time = timer() - start\r\n",
        "    if save:\r\n",
        "        save_image(filtered, \"cpu\" + filename)\r\n",
        "    return cpu_time * 1000\r\n",
        "\r\n",
        "#измеряем время на GPU\r\n",
        "def time_gpu(pixels, width, height, save):\r\n",
        "    start = timer()\r\n",
        "    #запускаем функцию\r\n",
        "    filtered = gpu_filter(pixels, width, height)\r\n",
        "    gpu_time = timer() - start\r\n",
        "    if save:\r\n",
        "        save_image(filtered, \"gpu\" + filename)\r\n",
        "    return gpu_time * 1000\r\n",
        "\r\n",
        "CPU_TEST_ROUND = 12\r\n",
        "GPU_TEST_ROUND = 12\r\n",
        "\r\n",
        "for filename in FILE_NAMES:\r\n",
        "    pixels, width, height = open_image(filename)\r\n",
        "    time_cpu(pixels, width, height, True)\r\n",
        "    time_gpu(pixels, width, height, True)\r\n",
        "    cpu_time = 0\r\n",
        "    gpu_time = 0\r\n",
        "    for i in range(CPU_TEST_ROUND):\r\n",
        "        cpu_time += time_cpu(pixels, width, height, False)\r\n",
        "\r\n",
        "    for i in range(GPU_TEST_ROUND):\r\n",
        "        gpu_time += time_gpu(pixels, width, height, False)\r\n",
        "\r\n",
        "    cpu_time /= CPU_TEST_ROUND\r\n",
        "    gpu_time /= GPU_TEST_ROUND\r\n",
        "    #вывод времени и ускорения для каждого файла\r\n",
        "    print(\"Имя файла: {:8s} -  на CPU {:5.5f}, на GPU {:2.5f}, ускорение {:5.5f}\".format(filename, cpu_time, gpu_time, cpu_time / gpu_time))"
      ],
      "execution_count": 34,
      "outputs": [
        {
          "output_type": "stream",
          "text": [
            "Имя файла: 512.bmp  -  на CPU 4907.35116, на GPU 2.51630, ускорение 1950.22564\n",
            "Имя файла: 1024.bmp -  на CPU 19760.58671, на GPU 8.44777, ускорение 2339.14856\n"
          ],
          "name": "stdout"
        }
      ]
    },
    {
      "cell_type": "markdown",
      "metadata": {
        "id": "Kcr7i8nEPoIn"
      },
      "source": [
        "# Новый раздел"
      ]
    },
    {
      "cell_type": "markdown",
      "metadata": {
        "id": "1uVR7eiAPoqe"
      },
      "source": [
        "# Новый раздел"
      ]
    }
  ]
}